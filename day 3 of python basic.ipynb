{
 "cells": [
  {
   "cell_type": "markdown",
   "id": "f86bb793",
   "metadata": {},
   "source": [
    "# string and integer"
   ]
  },
  {
   "cell_type": "code",
   "execution_count": 1,
   "id": "2d1c8320",
   "metadata": {},
   "outputs": [
    {
     "name": "stdout",
     "output_type": "stream",
     "text": [
      "10\n",
      "20\n"
     ]
    }
   ],
   "source": [
    "x=input()\n",
    "y=input()"
   ]
  },
  {
   "cell_type": "code",
   "execution_count": 3,
   "id": "091f2d99",
   "metadata": {},
   "outputs": [
    {
     "data": {
      "text/plain": [
       "'1020'"
      ]
     },
     "execution_count": 3,
     "metadata": {},
     "output_type": "execute_result"
    }
   ],
   "source": [
    "x+y\n",
    "#here the x and y are act as string because we cant define the x and y as a integer"
   ]
  },
  {
   "cell_type": "code",
   "execution_count": 20,
   "id": "cf7dd73d",
   "metadata": {},
   "outputs": [
    {
     "data": {
      "text/plain": [
       "int"
      ]
     },
     "execution_count": 20,
     "metadata": {},
     "output_type": "execute_result"
    }
   ],
   "source": [
    "type(x)\n",
    "type(y)          #by type function we check the nature of variable"
   ]
  },
  {
   "cell_type": "code",
   "execution_count": 15,
   "id": "3a3680c9",
   "metadata": {},
   "outputs": [],
   "source": [
    "x=int(x)\n",
    "y=int(y)"
   ]
  },
  {
   "cell_type": "code",
   "execution_count": 18,
   "id": "1ef08416",
   "metadata": {},
   "outputs": [
    {
     "data": {
      "text/plain": [
       "30"
      ]
     },
     "execution_count": 18,
     "metadata": {},
     "output_type": "execute_result"
    }
   ],
   "source": [
    "x+y\n",
    "#here we declear the x and y as a integer by int() command.thats why the value of x and y are act as integer.\n"
   ]
  },
  {
   "cell_type": "code",
   "execution_count": 19,
   "id": "df9178dd",
   "metadata": {},
   "outputs": [
    {
     "data": {
      "text/plain": [
       "int"
      ]
     },
     "execution_count": 19,
     "metadata": {},
     "output_type": "execute_result"
    }
   ],
   "source": [
    "type(x)\n",
    "type(y)"
   ]
  },
  {
   "cell_type": "code",
   "execution_count": 23,
   "id": "882f9f5a",
   "metadata": {},
   "outputs": [
    {
     "name": "stdout",
     "output_type": "stream",
     "text": [
      "enter the first number20\n",
      "enter your 2nd number20\n"
     ]
    }
   ],
   "source": [
    "x=int(input('enter the first number'))\n",
    "y=int(input('enter your 2nd number'))          #here we convert input into integer by 1 line"
   ]
  },
  {
   "cell_type": "code",
   "execution_count": 24,
   "id": "13f10141",
   "metadata": {},
   "outputs": [
    {
     "data": {
      "text/plain": [
       "40"
      ]
     },
     "execution_count": 24,
     "metadata": {},
     "output_type": "execute_result"
    }
   ],
   "source": [
    "x+y"
   ]
  },
  {
   "cell_type": "code",
   "execution_count": 25,
   "id": "68363ba1",
   "metadata": {},
   "outputs": [
    {
     "name": "stdout",
     "output_type": "stream",
     "text": [
      "enter your first number 12.4\n",
      "enter your 2nd number21\n"
     ]
    }
   ],
   "source": [
    "x=float(input('enter your first number '))\n",
    "y=float(input('enter your 2nd number'))    #float are used to take the fraction and integer value so float are used in both ways"
   ]
  },
  {
   "cell_type": "code",
   "execution_count": 26,
   "id": "f7677d1f",
   "metadata": {},
   "outputs": [
    {
     "data": {
      "text/plain": [
       "33.4"
      ]
     },
     "execution_count": 26,
     "metadata": {},
     "output_type": "execute_result"
    }
   ],
   "source": [
    "x+y"
   ]
  },
  {
   "cell_type": "markdown",
   "id": "556d31de",
   "metadata": {},
   "source": [
    "# use of complex number "
   ]
  },
  {
   "cell_type": "code",
   "execution_count": 27,
   "id": "f978dc54",
   "metadata": {},
   "outputs": [
    {
     "data": {
      "text/plain": [
       "complex"
      ]
     },
     "execution_count": 27,
     "metadata": {},
     "output_type": "execute_result"
    }
   ],
   "source": [
    "x=2+5j\n",
    "type(x)"
   ]
  },
  {
   "cell_type": "markdown",
   "id": "ba5c5a99",
   "metadata": {},
   "source": [
    "# isinstance function are used to check the class here isinstance(variable name,class).it returns true or false"
   ]
  },
  {
   "cell_type": "code",
   "execution_count": 28,
   "id": "ff8d9729",
   "metadata": {},
   "outputs": [
    {
     "data": {
      "text/plain": [
       "True"
      ]
     },
     "execution_count": 28,
     "metadata": {},
     "output_type": "execute_result"
    }
   ],
   "source": [
    "isinstance(x,complex)"
   ]
  },
  {
   "cell_type": "code",
   "execution_count": 29,
   "id": "da054f38",
   "metadata": {},
   "outputs": [
    {
     "data": {
      "text/plain": [
       "False"
      ]
     },
     "execution_count": 29,
     "metadata": {},
     "output_type": "execute_result"
    }
   ],
   "source": [
    "isinstance(x,float)"
   ]
  },
  {
   "cell_type": "markdown",
   "id": "e52ccfe0",
   "metadata": {},
   "source": [
    "# list"
   ]
  },
  {
   "cell_type": "code",
   "execution_count": 3,
   "id": "fe2aba85",
   "metadata": {},
   "outputs": [],
   "source": [
    "a=[1,2,3,'tanvir',(7,8,9)]   #to create a list we have to use 3rd bracket and inside a bracket we input the element of the list\n",
    "\n"
   ]
  },
  {
   "cell_type": "code",
   "execution_count": 2,
   "id": "ab9b792d",
   "metadata": {},
   "outputs": [
    {
     "data": {
      "text/plain": [
       "[1, 2, 3, 'tanvir', (7, 8, 9)]"
      ]
     },
     "execution_count": 2,
     "metadata": {},
     "output_type": "execute_result"
    }
   ],
   "source": [
    "a"
   ]
  },
  {
   "cell_type": "code",
   "execution_count": 5,
   "id": "c784dcb1",
   "metadata": {},
   "outputs": [
    {
     "data": {
      "text/plain": [
       "'tanvir'"
      ]
     },
     "execution_count": 5,
     "metadata": {},
     "output_type": "execute_result"
    }
   ],
   "source": [
    "a[3]         #this is how we see the individual element of a list"
   ]
  },
  {
   "cell_type": "code",
   "execution_count": 6,
   "id": "ccff4a3f",
   "metadata": {},
   "outputs": [
    {
     "data": {
      "text/plain": [
       "(7, 8, 9)"
      ]
     },
     "execution_count": 6,
     "metadata": {},
     "output_type": "execute_result"
    }
   ],
   "source": [
    "a[-1]"
   ]
  },
  {
   "cell_type": "code",
   "execution_count": 8,
   "id": "5b1f81ea",
   "metadata": {},
   "outputs": [
    {
     "data": {
      "text/plain": [
       "8"
      ]
     },
     "execution_count": 8,
     "metadata": {},
     "output_type": "execute_result"
    }
   ],
   "source": [
    "a[-1][1]    #here this toples is a subsets and this is how we acess the element of subsets"
   ]
  },
  {
   "cell_type": "markdown",
   "id": "8e8427df",
   "metadata": {},
   "source": [
    "# tuples"
   ]
  },
  {
   "cell_type": "code",
   "execution_count": 11,
   "id": "3af4cd51",
   "metadata": {},
   "outputs": [],
   "source": [
    "b=(1,2,3,4,5,6,7,8,9)      #this is how we express tuples"
   ]
  },
  {
   "cell_type": "code",
   "execution_count": 10,
   "id": "6e462e85",
   "metadata": {},
   "outputs": [
    {
     "data": {
      "text/plain": [
       "True"
      ]
     },
     "execution_count": 10,
     "metadata": {},
     "output_type": "execute_result"
    }
   ],
   "source": [
    "isinstance(b,tuple)"
   ]
  },
  {
   "cell_type": "code",
   "execution_count": 13,
   "id": "c6763f83",
   "metadata": {},
   "outputs": [
    {
     "data": {
      "text/plain": [
       "4"
      ]
     },
     "execution_count": 13,
     "metadata": {},
     "output_type": "execute_result"
    }
   ],
   "source": [
    "b[3]    #this is how we see the element of tuple"
   ]
  },
  {
   "cell_type": "code",
   "execution_count": 15,
   "id": "39a01deb",
   "metadata": {},
   "outputs": [
    {
     "data": {
      "text/plain": [
       "(2, 3, 4, 5, 6, 7)"
      ]
     },
     "execution_count": 15,
     "metadata": {},
     "output_type": "execute_result"
    }
   ],
   "source": [
    "b[1:7]    #colon means 1 to (7-1)"
   ]
  },
  {
   "cell_type": "markdown",
   "id": "9cc50089",
   "metadata": {},
   "source": [
    "# range"
   ]
  },
  {
   "cell_type": "code",
   "execution_count": 29,
   "id": "15b2e15e",
   "metadata": {},
   "outputs": [],
   "source": [
    "x=range(15)"
   ]
  },
  {
   "cell_type": "code",
   "execution_count": 30,
   "id": "c92c5dec",
   "metadata": {},
   "outputs": [
    {
     "data": {
      "text/plain": [
       "range(0, 15)"
      ]
     },
     "execution_count": 30,
     "metadata": {},
     "output_type": "execute_result"
    }
   ],
   "source": [
    "x"
   ]
  },
  {
   "cell_type": "code",
   "execution_count": 31,
   "id": "dd55bb8c",
   "metadata": {},
   "outputs": [
    {
     "name": "stdout",
     "output_type": "stream",
     "text": [
      "0\n",
      "1\n",
      "2\n",
      "3\n",
      "4\n",
      "5\n",
      "6\n",
      "7\n",
      "8\n",
      "9\n",
      "10\n",
      "11\n",
      "12\n",
      "13\n",
      "14\n"
     ]
    }
   ],
   "source": [
    "for i in x:\n",
    "    print(i)"
   ]
  },
  {
   "cell_type": "code",
   "execution_count": 33,
   "id": "e6135992",
   "metadata": {},
   "outputs": [
    {
     "name": "stdout",
     "output_type": "stream",
     "text": [
      "10\n",
      "15\n",
      "20\n",
      "25\n",
      "30\n",
      "35\n",
      "40\n",
      "45\n"
     ]
    }
   ],
   "source": [
    "y=range(10,50,5)     #here in range (10,50) is the range and 5 is the difference between them\n",
    "for i in y:\n",
    "    print(i)"
   ]
  }
 ],
 "metadata": {
  "kernelspec": {
   "display_name": "Python 3 (ipykernel)",
   "language": "python",
   "name": "python3"
  },
  "language_info": {
   "codemirror_mode": {
    "name": "ipython",
    "version": 3
   },
   "file_extension": ".py",
   "mimetype": "text/x-python",
   "name": "python",
   "nbconvert_exporter": "python",
   "pygments_lexer": "ipython3",
   "version": "3.11.5"
  }
 },
 "nbformat": 4,
 "nbformat_minor": 5
}
